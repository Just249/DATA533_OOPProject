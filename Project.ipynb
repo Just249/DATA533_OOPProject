{
 "cells": [
  {
   "cell_type": "code",
   "execution_count": null,
   "id": "372b068b-76b9-47ed-bfb6-addd376d69a7",
   "metadata": {},
   "outputs": [],
   "source": [
    "Ask for User Name\n",
    "Ask for What Quiz the User want to be quiz on \n",
    "Save Name with Score\n",
    "Ask if User What to Try again Or Exit\n",
    "Add Diffclaty\n"
   ]
  },
  {
   "cell_type": "code",
   "execution_count": 2,
   "id": "5abc3d1c-b333-4a21-901f-f87a689b817d",
   "metadata": {
    "jupyter": {
     "source_hidden": true
    },
    "tags": []
   },
   "outputs": [
    {
     "name": "stdout",
     "output_type": "stream",
     "text": [
      "Justin   0\n",
      "Justin   10\n"
     ]
    }
   ],
   "source": [
    "class Student:\n",
    "    def __init__(self, name, score):\n",
    "        self._name = name\n",
    "        self._score = score\n",
    "    @property\n",
    "    def name(self):\n",
    "        return self._name\n",
    "    @property\n",
    "    def score(self):\n",
    "        return self._score\n",
    "    \n",
    "    @score.setter\n",
    "    def score(self, new_score):\n",
    "        self._score = new_score\n",
    "    \n",
    "p1 = Student('Justin', 0)\n",
    "print(p1.name, \" \", p1.score)\n",
    "p1.score = 10 #setting new score\n",
    "print(p1.name, \" \", p1.score)"
   ]
  },
  {
   "cell_type": "code",
   "execution_count": 10,
   "id": "a5298033-ba48-4d2a-bd3f-fca5a5e58320",
   "metadata": {},
   "outputs": [],
   "source": [
    "class Quiz:\n",
    "\n",
    "    def __init__(self, questions):\n",
    "        self.quesBank = questions\n",
    "        self.quesNum = 0\n",
    "        self.score = 0\n",
    "        \n",
    "    def next_question(self):\n",
    "        current_question = self.quesBank[self.quesNum]\n",
    "        self.quesNum += 1\n",
    "        usr_input = input(\"Question \" + str(self.quesNum)+ \". \" + str(current_question.text))\n",
    "        self.check_answer(usr_input.lower(), current_question.answer)\n",
    "    \n",
    "    def isEmpty(self):\n",
    "        return self.quesNum < len(self.quesBank)\n",
    "\n",
    "    def check_answer(self, user_answer, correct_answer):\n",
    "        if user_answer == correct_answer:\n",
    "            print(\"Correct!!! \\n \\n \\n\")\n",
    "            self.score += 1\n",
    "        else:\n",
    "            print(\"Wrong   :( \\n \\n \\n\")\n",
    "            print(\"The correct answer is: \" + str(correct_answer)+ \"\\n\")"
   ]
  },
  {
   "cell_type": "code",
   "execution_count": 11,
   "id": "1481e9cb-23e6-4559-9d4f-d9a0637682fc",
   "metadata": {},
   "outputs": [],
   "source": [
    "class Question(Quiz):\n",
    "\n",
    "    def __init__(self, q_text, q_answer):\n",
    "        self.text = q_text\n",
    "        self.answer = q_answer"
   ]
  },
  {
   "cell_type": "code",
   "execution_count": 12,
   "id": "ea849620-b2a9-4f75-886c-067bd4b408bd",
   "metadata": {},
   "outputs": [],
   "source": [
    "class Data533(Question):\n",
    "    def __init__(self):\n",
    "        self.data533_q = []\n",
    "        self.question_data = [\n",
    "    {\n",
    "        \"question\": \"Which of the following represents a template or blueprint that defines objects of the same type?(Answer in Letter) \\nA) A class \\nB) An object \\nC) A method \\nD) An attribute \\nE) None of the above\\n\",\n",
    "        \"correct_answer\": \"A\"\n",
    "    },\n",
    "    {\n",
    "        \"question\": \"How many of the following statements are TRUE?(Answer in Letter) \\n1) Class attributes owned by the class as a whole  \\n2) Class attributes are shared among all objects of that class \\n3) Class attributes are good for building counter of how many instances of the class have been made \\n4) Each instance has its own value for class attribute \\n\",\n",
    "        \"correct_answer\": \"3\"\n",
    "    }\n",
    "]\n",
    "        self.append_q()\n",
    "        Quiz.__init__(self,self.data533_q)\n",
    "        # print(self.data533_q)\n",
    "    def append_q(self):\n",
    "        for question in self.question_data:\n",
    "            question_text = question[\"question\"]\n",
    "            question_answer = question[\"correct_answer\"]\n",
    "            new_question = Question(question_text, question_answer)\n",
    "            # print(new_question)\n",
    "            self.data533_q.append(new_question)\n",
    "        \n",
    "        # print(self.data533_q)\n",
    "    # def get_q():\n",
    "    #     return data533_q\n",
    "    \n",
    "class Data541(Question,Quiz):\n",
    "    def __init__(self):\n",
    "        self.data541_q = []\n",
    "        self.question_data = [\n",
    "    {\n",
    "        \"question\": \"How many of the following statements are TRUE?(Answer in Number) \\n1) Git is a is distributed version control system \\n2) Git is designed to support parallel development \\n3) Git is a web-based repository Service \\n4) Git doesn’t require a server \\n\",\n",
    "        \"correct_answer\": \"3\"\n",
    "    },\n",
    "    {\n",
    "        \"question\": \"Which of the following command creates a copy of a remote repository to your local machine.(Answer in Letter) \\n A) git add \\n B) git commit \\n C) git clone \\n D) git pull\\n E) git push \\n\",\n",
    "        \"correct_answer\": \"c\"\n",
    "    },\n",
    "    {\n",
    "        \"question\": \" How many of the following statements are TRUE?(Answer in Number) \\n1) git branch NewBranch creates a new branch \\n2) git branch NewBranch does not check out to the NewBranch \\n3) git branch is tightly integrated with the git checkout and git merge commands \\n4) git branch -d NewBranch can be used to force delete the branch called NewBranch\\n\",\n",
    "        \"correct_answer\": \"3\"\n",
    "    }\n",
    "]\n",
    "        self.append_q()\n",
    "        Quiz.__init__(self,self.data541_q)\n",
    "        # print(self.data541_q)\n",
    "    def append_q(self):\n",
    "        for question in self.question_data:\n",
    "            question_text = question[\"question\"]\n",
    "            question_answer = question[\"correct_answer\"]\n",
    "            new_question = Question(question_text, question_answer)\n",
    "            # print(new_question)\n",
    "            self.data541_q.append(new_question)\n",
    "            # self.data541_q.append(Question(question[\"question\"], question[\"correct_answer\"]))\n",
    "        \n",
    "        # print(self.data541_q)\n",
    "    # def get_q():\n",
    "    #     return data541_q"
   ]
  },
  {
   "cell_type": "code",
   "execution_count": 25,
   "id": "5f5ca85d-6718-490a-b400-7658a889cc36",
   "metadata": {},
   "outputs": [
    {
     "name": "stdin",
     "output_type": "stream",
     "text": [
      "What do you want to be Quiz on?  data541\n"
     ]
    },
    {
     "name": "stdout",
     "output_type": "stream",
     "text": [
      "\n",
      "\n",
      "\n",
      "**********************************************\n",
      "*             Welcome to DATA541.            *\n",
      "* There is 3 questions in total in DATA541.  *\n",
      "**********************************************\n"
     ]
    },
    {
     "name": "stdin",
     "output_type": "stream",
     "text": [
      "Question 1. How many of the following statements are TRUE?(Answer in Number) \n",
      "1) Git is a is distributed version control system \n",
      "2) Git is designed to support parallel development \n",
      "3) Git is a web-based repository Service \n",
      "4) Git doesn’t require a server \n",
      " 3\n"
     ]
    },
    {
     "name": "stdout",
     "output_type": "stream",
     "text": [
      "Correct!!! \n",
      " \n",
      " \n",
      "\n"
     ]
    },
    {
     "name": "stdin",
     "output_type": "stream",
     "text": [
      "Question 2. Which of the following command creates a copy of a remote repository to your local machine.(Answer in Letter) \n",
      " A) git add \n",
      " B) git commit \n",
      " C) git clone \n",
      " D) git pull\n",
      " E) git push \n",
      " 4\n"
     ]
    },
    {
     "name": "stdout",
     "output_type": "stream",
     "text": [
      "Wrong   :( \n",
      " \n",
      " \n",
      "\n",
      "The correct answer is: c\n",
      "\n"
     ]
    },
    {
     "name": "stdin",
     "output_type": "stream",
     "text": [
      "Question 3.  How many of the following statements are TRUE?(Answer in Number) \n",
      "1) git branch NewBranch creates a new branch \n",
      "2) git branch NewBranch does not check out to the NewBranch \n",
      "3) git branch is tightly integrated with the git checkout and git merge commands \n",
      "4) git branch -d NewBranch can be used to force delete the branch called NewBranch\n",
      " 2\n"
     ]
    },
    {
     "name": "stdout",
     "output_type": "stream",
     "text": [
      "Wrong   :( \n",
      " \n",
      " \n",
      "\n",
      "The correct answer is: 3\n",
      "\n",
      "**************************************** \n",
      "**************************************** \n",
      "\n",
      "Final score: 1 out of 3. \n",
      "\n",
      "**************************************** \n",
      "**************************************** \n",
      "\n"
     ]
    }
   ],
   "source": [
    "data533_q= []\n",
    "data541_q= []\n",
    "\n",
    "\n",
    "while True:\n",
    "    usr_input = input(\"What do you want to be Quiz on? \")\n",
    "    print(\"\\n\\n\")\n",
    "    \n",
    "    \n",
    "    if usr_input != '':\n",
    "        if usr_input == \"data533\":\n",
    "            print(\"**********************************************\")\n",
    "            print(\"*             Welcome to DATA533.            *\")\n",
    "            print(\"* There is \" + str(quiz.quesNum) + \" questions in total in DATA533.  *\")\n",
    "            print(\"**********************************************\")\n",
    "            quiz = Data533()\n",
    "        elif usr_input == \"data541\":\n",
    "            print(\"**********************************************\")\n",
    "            print(\"*             Welcome to DATA541.            *\")\n",
    "            print(\"* There is \" + str(quiz.quesNum) + \" questions in total in DATA541.  *\")\n",
    "            print(\"**********************************************\")\n",
    "            quiz = Data541()\n",
    "\n",
    "        while quiz.isEmpty():\n",
    "            quiz.next_question()\n",
    "        \n",
    "        print(\"**************************************** \")\n",
    "        print(\"**************************************** \\n\")\n",
    "        print(\"Final score: \" + str(quiz.score) + \" out of \" + str(quiz.quesNum) + \". \\n\")\n",
    "        print(\"**************************************** \")\n",
    "        print(\"**************************************** \\n\")\n",
    "        \n",
    "        break #maybe loop back and ask if use want to quiz or continoue\n",
    "        \n",
    "    else:\n",
    "        print('User input is empty. Please Enter the course number that you would like to be quiz on.')\n",
    "\n",
    "\n"
   ]
  },
  {
   "cell_type": "code",
   "execution_count": null,
   "id": "f83f6e52-0c21-4a90-bf64-346b57b98535",
   "metadata": {},
   "outputs": [],
   "source": []
  },
  {
   "cell_type": "code",
   "execution_count": null,
   "id": "03ce3109-b0ac-4e1d-b086-b15b1eff6658",
   "metadata": {},
   "outputs": [],
   "source": []
  },
  {
   "cell_type": "code",
   "execution_count": null,
   "id": "e6d944dd-a8a7-40f2-9657-313cf05489cc",
   "metadata": {},
   "outputs": [],
   "source": []
  }
 ],
 "metadata": {
  "kernelspec": {
   "display_name": "Python 3 (ipykernel)",
   "language": "python",
   "name": "python3"
  },
  "language_info": {
   "codemirror_mode": {
    "name": "ipython",
    "version": 3
   },
   "file_extension": ".py",
   "mimetype": "text/x-python",
   "name": "python",
   "nbconvert_exporter": "python",
   "pygments_lexer": "ipython3",
   "version": "3.9.12"
  }
 },
 "nbformat": 4,
 "nbformat_minor": 5
}
