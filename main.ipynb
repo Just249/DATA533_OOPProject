{
 "cells": [
  {
   "cell_type": "code",
   "execution_count": 18,
   "id": "c36bf5c7-945b-4bc4-be33-53bc6a5daa2e",
   "metadata": {},
   "outputs": [],
   "source": [
    "from pkg.pkg1 import information_input as ii\n",
    "from pkg.pkg1 import information_output as io"
   ]
  },
  {
   "cell_type": "code",
   "execution_count": null,
   "id": "5352ab0b-6595-4227-a2fb-3c7ec9af1cb7",
   "metadata": {},
   "outputs": [],
   "source": [
    "if  ii.group()==\"student\":\n",
    "    v1 = Student(ii.name(), ii.ID(), ii.major(),ii.degree());\n",
    "    groups= [v1]\n",
    "    for group in groups:\n",
    "        group.display()\n",
    "    \n",
    "else:\n",
    "    v1 = Teacher(ii.name(), ii.ID(), ii.research(),ii.length());\n",
    "    groups= [v1]\n",
    "    for group in groups:\n",
    "        group.display()\n"
   ]
  },
  {
   "cell_type": "code",
   "execution_count": null,
   "id": "44f9683f-7d3c-4567-9106-38142ed50fe6",
   "metadata": {},
   "outputs": [],
   "source": []
  },
  {
   "cell_type": "code",
   "execution_count": null,
   "id": "61e8b443-dc40-43cd-9ead-506b91b08538",
   "metadata": {},
   "outputs": [],
   "source": []
  }
 ],
 "metadata": {
  "kernelspec": {
   "display_name": "Python 3 (ipykernel)",
   "language": "python",
   "name": "python3"
  },
  "language_info": {
   "codemirror_mode": {
    "name": "ipython",
    "version": 3
   },
   "file_extension": ".py",
   "mimetype": "text/x-python",
   "name": "python",
   "nbconvert_exporter": "python",
   "pygments_lexer": "ipython3",
   "version": "3.9.13"
  }
 },
 "nbformat": 4,
 "nbformat_minor": 5
}
